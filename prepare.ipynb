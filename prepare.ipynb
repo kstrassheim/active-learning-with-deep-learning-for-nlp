{
 "cells": [
  {
   "cell_type": "code",
   "execution_count": 7,
   "id": "fcaf734f",
   "metadata": {},
   "outputs": [
    {
     "name": "stdout",
     "output_type": "stream",
     "text": [
      "max text length 286\n",
      "max display text length 270\n"
     ]
    }
   ],
   "source": [
    "import pandas as pd\n",
    "import numpy as np\n",
    "data = pd.read_json('data/dataset_1.json')\n",
    "\n",
    "data[\"label_bin\"] = np.where(data[\"label\"] > 1, 1, 0)\n",
    "data[\"display_text\"] = [d[1]['text'][d[1]['displayTextRangeStart']: d[1]['getDisplayTextRangeEnd']] for d in data[[\"text\",\"displayTextRangeStart\", \"getDisplayTextRangeEnd\"]].iterrows()]\n",
    "print(\"max text length\", len(data.iloc[np.argmax(data['text'].to_numpy())]['text']))\n",
    "max_display_text_length = len(data.iloc[np.argmax(data['display_text'].to_numpy())]['display_text'])\n",
    "print(\"max display text length\", max_display_text_length)\n",
    "data\n",
    "X = data.display_text\n",
    "y = data.label\n"
   ]
  },
  {
   "cell_type": "code",
   "execution_count": 6,
   "id": "2ed5d21c",
   "metadata": {},
   "outputs": [
    {
     "data": {
      "text/plain": [
       "0       MOST FUN DAY EVER HAHAHAH but seriously love s...\n",
       "1       Consider giving to these privacy-focused chari...\n",
       "2       Very brave of your both to share your story. I...\n",
       "3       No, but willing to try. Good practice for the ...\n",
       "4       Someone I know is taken to jail very late at n...\n",
       "                              ...                        \n",
       "6520    Learn about the state of #SCADA and the #vulne...\n",
       "6521    [#Bestof2019] In June, we were at @pariscyberw...\n",
       "6522    Vulnerabilities in other #IoT devices connecte...\n",
       "6523    Chinese state 'likely' linked to cyber spies t...\n",
       "6524    #CyberAlerts | Multiple security advisories: D...\n",
       "Name: display_text, Length: 6525, dtype: object"
      ]
     },
     "execution_count": 6,
     "metadata": {},
     "output_type": "execute_result"
    }
   ],
   "source": [
    "X"
   ]
  },
  {
   "cell_type": "code",
   "execution_count": 8,
   "id": "8f051bd9",
   "metadata": {},
   "outputs": [
    {
     "data": {
      "application/vnd.jupyter.widget-view+json": {
       "model_id": "7290a5a3f2954e8095844d09066b3631",
       "version_major": 2,
       "version_minor": 0
      },
      "text/plain": [
       "Downloading:   0%|          | 0.00/438M [00:00<?, ?B/s]"
      ]
     },
     "metadata": {},
     "output_type": "display_data"
    },
    {
     "data": {
      "application/vnd.jupyter.widget-view+json": {
       "model_id": "c6d92714289e4dda9b4dadc63448f1a6",
       "version_major": 2,
       "version_minor": 0
      },
      "text/plain": [
       "Downloading:   0%|          | 0.00/53.0 [00:00<?, ?B/s]"
      ]
     },
     "metadata": {},
     "output_type": "display_data"
    },
    {
     "data": {
      "application/vnd.jupyter.widget-view+json": {
       "model_id": "94786077727e4e60a63fa6a282b8bc3b",
       "version_major": 2,
       "version_minor": 0
      },
      "text/plain": [
       "Downloading:   0%|          | 0.00/112 [00:00<?, ?B/s]"
      ]
     },
     "metadata": {},
     "output_type": "display_data"
    },
    {
     "data": {
      "application/vnd.jupyter.widget-view+json": {
       "model_id": "db9fe55746514c2eaceaaac4a0b6e025",
       "version_major": 2,
       "version_minor": 0
      },
      "text/plain": [
       "Downloading:   0%|          | 0.00/466k [00:00<?, ?B/s]"
      ]
     },
     "metadata": {},
     "output_type": "display_data"
    },
    {
     "data": {
      "application/vnd.jupyter.widget-view+json": {
       "model_id": "5289051f268f4e4ba184c0f3309a5b78",
       "version_major": 2,
       "version_minor": 0
      },
      "text/plain": [
       "Downloading:   0%|          | 0.00/377 [00:00<?, ?B/s]"
      ]
     },
     "metadata": {},
     "output_type": "display_data"
    },
    {
     "data": {
      "application/vnd.jupyter.widget-view+json": {
       "model_id": "a2384f1f22774630b23cb83ec3fbae0f",
       "version_major": 2,
       "version_minor": 0
      },
      "text/plain": [
       "Downloading:   0%|          | 0.00/232k [00:00<?, ?B/s]"
      ]
     },
     "metadata": {},
     "output_type": "display_data"
    },
    {
     "data": {
      "application/vnd.jupyter.widget-view+json": {
       "model_id": "f46dd6b077b5405abccbd145df2c31c2",
       "version_major": 2,
       "version_minor": 0
      },
      "text/plain": [
       "Downloading:   0%|          | 0.00/190 [00:00<?, ?B/s]"
      ]
     },
     "metadata": {},
     "output_type": "display_data"
    }
   ],
   "source": [
    "from sentence_transformers import SentenceTransformer, util\n",
    "import torch\n",
    "model = SentenceTransformer('stsb-bert-base')\n"
   ]
  },
  {
   "cell_type": "code",
   "execution_count": 10,
   "id": "69c8ada6",
   "metadata": {},
   "outputs": [],
   "source": [
    "model.max_seq_length = max_display_text_length\n",
    "\n",
    "embedding_list = model.encode(X, show_progress_bar=True)\n"
   ]
  },
  {
   "cell_type": "code",
   "execution_count": 11,
   "id": "fffd7e34",
   "metadata": {},
   "outputs": [
    {
     "data": {
      "text/plain": [
       "array([[ 0.01031118,  0.47366434,  0.5285841 , ...,  0.3557919 ,\n",
       "         0.3511162 ,  0.32985434],\n",
       "       [ 0.94506556,  0.17291027,  0.68434525, ..., -0.03435059,\n",
       "        -0.94774526,  0.64350206],\n",
       "       [ 0.0271307 ,  0.2565855 ,  0.6282008 , ...,  0.00828963,\n",
       "         0.1732656 , -0.80317223],\n",
       "       ...,\n",
       "       [ 0.285472  , -0.24517831,  0.22439268, ..., -0.338788  ,\n",
       "        -1.4717871 ,  0.431167  ],\n",
       "       [ 0.8057044 ,  0.4535507 , -0.87348175, ..., -0.39328516,\n",
       "         0.11977603,  0.5895106 ],\n",
       "       [ 0.11876404, -0.08858778,  1.7711028 , ...,  0.3796738 ,\n",
       "        -0.9112845 ,  0.3616097 ]], dtype=float32)"
      ]
     },
     "execution_count": 11,
     "metadata": {},
     "output_type": "execute_result"
    }
   ],
   "source": [
    "embedding_list"
   ]
  }
 ],
 "metadata": {
  "kernelspec": {
   "display_name": "Python 3 (ipykernel)",
   "language": "python",
   "name": "python3"
  },
  "language_info": {
   "codemirror_mode": {
    "name": "ipython",
    "version": 3
   },
   "file_extension": ".py",
   "mimetype": "text/x-python",
   "name": "python",
   "nbconvert_exporter": "python",
   "pygments_lexer": "ipython3",
   "version": "3.8.10"
  }
 },
 "nbformat": 4,
 "nbformat_minor": 5
}
