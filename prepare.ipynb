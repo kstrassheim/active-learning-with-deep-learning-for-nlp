{
 "cells": [
  {
   "cell_type": "code",
   "execution_count": 1,
   "id": "fcaf734f",
   "metadata": {},
   "outputs": [
    {
     "name": "stdout",
     "output_type": "stream",
     "text": [
      "max text length 286\n",
      "max display text length 270\n"
     ]
    }
   ],
   "source": [
    "import pandas as pd\n",
    "import numpy as np\n",
    "data = pd.read_json('data/dataset_1.json')\n",
    "\n",
    "data[\"label_bin\"] = np.where(data[\"label\"] > 1, 1, 0)\n",
    "data[\"display_text\"] = [d[1]['text'][d[1]['displayTextRangeStart']: d[1]['getDisplayTextRangeEnd']] for d in data[[\"text\",\"displayTextRangeStart\", \"getDisplayTextRangeEnd\"]].iterrows()]\n",
    "print(\"max text length\", len(data.iloc[np.argmax(data['text'].to_numpy())]['text']))\n",
    "max_display_text_length = len(data.iloc[np.argmax(data['display_text'].to_numpy())]['display_text'])\n",
    "print(\"max display text length\", max_display_text_length)\n",
    "data\n",
    "X = data.display_text\n",
    "y = data.label\n"
   ]
  },
  {
   "cell_type": "code",
   "execution_count": 26,
   "id": "8f051bd9",
   "metadata": {},
   "outputs": [],
   "source": [
    "def get_sbert_centroid_args(sentences, num_labels:int, bert_model_name='all-distilroberta-v1'):\n",
    "    from sentence_transformers import SentenceTransformer, util\n",
    "    import torch\n",
    "    model = SentenceTransformer(bert_model_name)\n",
    "    model.max_seq_length = np.argmax(sentences)\n",
    "    \n",
    "    embedding_list = model.encode(X, show_progress_bar=True)\n",
    "    from sklearn.cluster import KMeans\n",
    "    clustering_model = KMeans(n_clusters=10, random_state=1337) \n",
    "    clustering_model.fit(embedding_list)\n",
    "    cluster_assignment = clustering_model.labels_\n",
    "    clustered_sentences = {}\n",
    "    for sentence_id, cluster_id in enumerate(cluster_assignment):\n",
    "        if cluster_id not in clustered_sentences:\n",
    "            clustered_sentences[cluster_id] = []\n",
    "\n",
    "        clustered_sentences[cluster_id].append(sentence_id)\n",
    "\n",
    "    centroids = []\n",
    "    for i in range(len(clustering_model.cluster_centers_)):\n",
    "        center = clustering_model.cluster_centers_[i]\n",
    "        centroid_arg = np.argmin([np.linalg.norm(cluster_item-center) for cluster_item in embedding_list[clustered_sentences[i]]])\n",
    "        centroids.append(centroid_arg)\n",
    "    return centroids"
   ]
  },
  {
   "cell_type": "code",
   "execution_count": 28,
   "id": "69c8ada6",
   "metadata": {},
   "outputs": [
    {
     "data": {
      "application/vnd.jupyter.widget-view+json": {
       "model_id": "c68ab85f7bb2463c8a23943565d9787f",
       "version_major": 2,
       "version_minor": 0
      },
      "text/plain": [
       "Batches:   0%|          | 0/204 [00:00<?, ?it/s]"
      ]
     },
     "metadata": {},
     "output_type": "display_data"
    },
    {
     "data": {
      "text/plain": [
       "[780, 582, 2, 116, 455, 585, 43, 570, 307, 59]"
      ]
     },
     "execution_count": 28,
     "metadata": {},
     "output_type": "execute_result"
    }
   ],
   "source": [
    "get_sbert_centroid_args(sentences=X, num_labels=100)"
   ]
  },
  {
   "cell_type": "code",
   "execution_count": null,
   "id": "39e85edf",
   "metadata": {},
   "outputs": [],
   "source": [
    "def get_"
   ]
  }
 ],
 "metadata": {
  "kernelspec": {
   "display_name": "Python 3",
   "language": "python",
   "name": "python3"
  },
  "language_info": {
   "codemirror_mode": {
    "name": "ipython",
    "version": 3
   },
   "file_extension": ".py",
   "mimetype": "text/x-python",
   "name": "python",
   "nbconvert_exporter": "python",
   "pygments_lexer": "ipython3",
   "version": "3.8.5"
  }
 },
 "nbformat": 4,
 "nbformat_minor": 5
}
